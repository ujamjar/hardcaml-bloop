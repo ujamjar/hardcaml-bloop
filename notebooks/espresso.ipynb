{
  "worksheets": [
    {
      "cells": [
        {
          "source": [
            "Espresso 2 level optimiser"
          ],
          "metadata": {},
          "cell_type": "heading",
          "level": 1
        },
        {
          "outputs": [
            {
              "text": [
                "/home/andyman/.opam/4.02.1-test/lib/bytes: added to search path\n"
              ],
              "output_type": "stream",
              "stream": "stderr"
            },
            {
              "text": [
                "/home/andyman/.opam/4.02.1-test/lib/ocaml/unix.cma: loaded\n"
              ],
              "output_type": "stream",
              "stream": "stderr"
            },
            {
              "text": [
                "/home/andyman/.opam/4.02.1-test/lib/ocaml/bigarray.cma: loaded\n"
              ],
              "output_type": "stream",
              "stream": "stderr"
            },
            {
              "text": [
                "/home/andyman/.opam/4.02.1-test/lib/ocaml/nums.cma: loaded\n"
              ],
              "output_type": "stream",
              "stream": "stderr"
            },
            {
              "text": [
                "/home/andyman/.opam/4.02.1-test/lib/num-top: added to search path\n",
                "/home/andyman/.opam/4.02.1-test/lib/num-top/num_top.cma: loaded\n"
              ],
              "output_type": "stream",
              "stream": "stderr"
            },
            {
              "text": [
                "/home/andyman/.opam/4.02.1-test/lib/num: added to search path\n",
                "/home/andyman/.opam/4.02.1-test/lib/hardcaml: added to search path\n",
                "/home/andyman/.opam/4.02.1-test/lib/hardcaml/HardCaml.cma: loaded\n"
              ],
              "output_type": "stream",
              "stream": "stderr"
            },
            {
              "text": [
                "/home/andyman/.opam/4.02.1-test/lib/minisat: added to search path\n",
                "/home/andyman/.opam/4.02.1-test/lib/minisat/minisat.cma: loaded\n"
              ],
              "output_type": "stream",
              "stream": "stderr"
            },
            {
              "text": [
                "/home/andyman/.opam/4.02.1-test/lib/bdd: added to search path\n",
                "/home/andyman/.opam/4.02.1-test/lib/bdd/bdd.cma: loaded\n"
              ],
              "output_type": "stream",
              "stream": "stderr"
            },
            {
              "text": [
                "/home/andyman/.opam/4.02.1-test/lib/uutf: added to search path\n",
                "/home/andyman/.opam/4.02.1-test/lib/uutf/uutf.cma: loaded\n"
              ],
              "output_type": "stream",
              "stream": "stderr"
            },
            {
              "text": [
                "/home/andyman/.opam/4.02.1-test/lib/gg: added to search path\n",
                "/home/andyman/.opam/4.02.1-test/lib/gg/gg.cma: loaded\n"
              ],
              "output_type": "stream",
              "stream": "stderr"
            },
            {
              "text": [
                "/home/andyman/.opam/4.02.1-test/lib/gg/gg_top.cma: loaded\n"
              ],
              "output_type": "stream",
              "stream": "stderr"
            },
            {
              "text": [
                "/home/andyman/.opam/4.02.1-test/lib/vg: added to search path\n",
                "/home/andyman/.opam/4.02.1-test/lib/vg/vg.cma: loaded\n"
              ],
              "output_type": "stream",
              "stream": "stderr"
            },
            {
              "text": [
                "/home/andyman/.opam/4.02.1-test/lib/hardcaml-bloop: added to search path\n",
                "/home/andyman/.opam/4.02.1-test/lib/hardcaml-bloop/HardCamlBloop.cma: loaded\n"
              ],
              "output_type": "stream",
              "stream": "stderr"
            },
            {
              "text": [
                "/home/andyman/.opam/4.02.1-test/lib/iocaml-kernel: added to search path\n",
                "/home/andyman/.opam/4.02.1-test/lib/vg/vgr_svg.cma: loaded\n"
              ],
              "output_type": "stream",
              "stream": "stderr"
            }
          ],
          "input": [
            "#require \"hardcaml-bloop, iocaml-kernel.notebook, vg.svg\""
          ],
          "metadata": {},
          "cell_type": "code",
          "prompt_number": 1,
          "language": "python",
          "collapsed": false
        },
        {
          "outputs": [
            {
              "html": [
                "<pre style=\"color:slategray;max-height:100px;overflow:hidden\" \n",
                "onclick=\"\n",
                "if (this.style.maxHeight === 'none') \n",
                "    this.style.maxHeight = '100px';\n",
                "else\n",
                "    this.style.maxHeight = 'none'; \n",
                "\">type svg_render = Gg.size2 * Gg.box2 * Vg.image\n",
                "</pre>"
              ],
              "output_type": "pyout",
              "prompt_number": 2,
              "metadata": {}
            },
            {
              "html": [
                "<pre style=\"color:slategray;max-height:100px;overflow:hidden\" \n",
                "onclick=\"\n",
                "if (this.style.maxHeight === 'none') \n",
                "    this.style.maxHeight = '100px';\n",
                "else\n",
                "    this.style.maxHeight = 'none'; \n",
                "\">val string_of_svg : ?xml_decl:bool -&gt; Gg.size2 * Gg.box2 * Vg.image -&gt; string =\n",
                "  &lt;fun&gt;\n",
                "</pre>"
              ],
              "output_type": "pyout",
              "prompt_number": 2,
              "metadata": {}
            },
            {
              "html": [
                "<pre style=\"color:slategray;max-height:100px;overflow:hidden\" \n",
                "onclick=\"\n",
                "if (this.style.maxHeight === 'none') \n",
                "    this.style.maxHeight = '100px';\n",
                "else\n",
                "    this.style.maxHeight = 'none'; \n",
                "\">val print_svg : Format.formatter -&gt; Gg.size2 * Gg.box2 * Vg.image -&gt; unit =\n",
                "  &lt;fun&gt;\n",
                "</pre>"
              ],
              "output_type": "pyout",
              "prompt_number": 2,
              "metadata": {}
            }
          ],
          "input": [
            "type svg_render = Gg.size2 * Gg.box2 * Vg.image\n",
            "\n",
            "let string_of_svg ?(xml_decl=false) (size,view,image) = \n",
            "    let buffer = Buffer.create 1024 in\n",
            "    let r = Vg.Vgr.create (Vgr_svg.target ~xml_decl ()) (`Buffer buffer) in\n",
            "    ignore (Vg.Vgr.render r (`Image (size, view, image)));\n",
            "    ignore (Vg.Vgr.render r `End);\n",
            "    Buffer.contents buffer\n",
            "\n",
            "let print_svg fmt svg = \n",
            "    Format.fprintf fmt \"<svg>\";\n",
            "    Iocaml.display \n",
            "        \"text/html\" \n",
            "            (\"<object data=\" ^ Iocaml.data_uri \"image/svg+xml\" (string_of_svg svg) ^ \"></object>\")\n",
            ";;\n",
            "#install_printer print_svg;;"
          ],
          "metadata": {},
          "cell_type": "code",
          "prompt_number": 2,
          "language": "python",
          "collapsed": false
        },
        {
          "outputs": [],
          "input": [
            "open HardCamlBloop\n",
            "open Pcn\n",
            "open Expr"
          ],
          "metadata": {},
          "cell_type": "code",
          "prompt_number": 3,
          "language": "python",
          "collapsed": false
        },
        {
          "outputs": [
            {
              "html": [
                "<pre style=\"color:slategray;max-height:100px;overflow:hidden\" \n",
                "onclick=\"\n",
                "if (this.style.maxHeight === 'none') \n",
                "    this.style.maxHeight = '100px';\n",
                "else\n",
                "    this.style.maxHeight = 'none'; \n",
                "\">val a : HardCamlBloop.Expr.t = Var (&quot;a&quot;, 0)\n",
                "val b : HardCamlBloop.Expr.t = Var (&quot;b&quot;, 0)\n",
                "val c : HardCamlBloop.Expr.t = Var (&quot;c&quot;, 0)\n",
                "val d : HardCamlBloop.Expr.t = Var (&quot;d&quot;, 0)\n",
                "</pre>"
              ],
              "output_type": "pyout",
              "prompt_number": 30,
              "metadata": {}
            }
          ],
          "input": [
            "let a, b, c, d = var \"a\", var \"b\", var \"c\", var \"d\""
          ],
          "metadata": {},
          "cell_type": "code",
          "prompt_number": 30,
          "language": "python",
          "collapsed": false
        },
        {
          "source": [
            "Irredundant"
          ],
          "metadata": {},
          "cell_type": "heading",
          "level": 2
        },
        {
          "source": [
            "Test the irredundant operator.  This removes any cubes which are fully covered by other cubes.  The cover is prime and a local minimum.\n",
            "\n",
            "Starting from (irredundant) function f we create g and h with extra irredundant terms. Note; f=g but f<>h."
          ],
          "metadata": {},
          "cell_type": "markdown"
        },
        {
          "outputs": [
            {
              "html": [
                "<pre style=\"color:slategray;max-height:100px;overflow:hidden\" \n",
                "onclick=\"\n",
                "if (this.style.maxHeight === 'none') \n",
                "    this.style.maxHeight = '100px';\n",
                "else\n",
                "    this.style.maxHeight = 'none'; \n",
                "\">val f : HardCamlBloop.Expr.t =\n",
                "  Or\n",
                "   (Or (And (Not (Var (&quot;c&quot;, 0)), Var (&quot;d&quot;, 0)),\n",
                "     And (Var (&quot;a&quot;, 0), Var (&quot;d&quot;, 0))),\n",
                "   And (And (Not (Var (&quot;a&quot;, 0)), Var (&quot;b&quot;, 0)), Var (&quot;c&quot;, 0)))\n",
                "</pre>"
              ],
              "output_type": "pyout",
              "prompt_number": 5,
              "metadata": {}
            }
          ],
          "input": [
            "let f = (~: c &: d) |: (a &: d) |: (~:a &: b &: c)"
          ],
          "metadata": {},
          "cell_type": "code",
          "prompt_number": 5,
          "language": "python",
          "collapsed": false
        },
        {
          "outputs": [
            {
              "html": [
                "<pre style=\"color:slategray;max-height:100px;overflow:hidden\" \n",
                "onclick=\"\n",
                "if (this.style.maxHeight === 'none') \n",
                "    this.style.maxHeight = '100px';\n",
                "else\n",
                "    this.style.maxHeight = 'none'; \n",
                "\">val g : HardCamlBloop.Expr.t =\n",
                "  Or\n",
                "   (Or\n",
                "     (Or (And (Not (Var (&quot;c&quot;, 0)), Var (&quot;d&quot;, 0)),\n",
                "       And (Var (&quot;a&quot;, 0), Var (&quot;d&quot;, 0))),\n",
                "     And (And (Not (Var (&quot;a&quot;, 0)), Var (&quot;b&quot;, 0)), Var (&quot;c&quot;, 0))),\n",
                "   And (And (Not (Var (&quot;a&quot;, 0)), Var (&quot;b&quot;, 0)), Var (&quot;d&quot;, 0)))\n",
                "</pre>"
              ],
              "output_type": "pyout",
              "prompt_number": 6,
              "metadata": {}
            }
          ],
          "input": [
            "let g = f |: (~: a &: b &: d)"
          ],
          "metadata": {},
          "cell_type": "code",
          "prompt_number": 6,
          "language": "python",
          "collapsed": false
        },
        {
          "outputs": [
            {
              "html": [
                "<pre style=\"color:slategray;max-height:100px;overflow:hidden\" \n",
                "onclick=\"\n",
                "if (this.style.maxHeight === 'none') \n",
                "    this.style.maxHeight = '100px';\n",
                "else\n",
                "    this.style.maxHeight = 'none'; \n",
                "\">val h : HardCamlBloop.Expr.t =\n",
                "  Or\n",
                "   (Or\n",
                "     (Or (And (Not (Var (&quot;c&quot;, 0)), Var (&quot;d&quot;, 0)),\n",
                "       And (Var (&quot;a&quot;, 0), Var (&quot;d&quot;, 0))),\n",
                "     And (And (Not (Var (&quot;a&quot;, 0)), Var (&quot;b&quot;, 0)), Var (&quot;c&quot;, 0))),\n",
                "   And (Var (&quot;b&quot;, 0), Var (&quot;c&quot;, 0)))\n",
                "</pre>"
              ],
              "output_type": "pyout",
              "prompt_number": 7,
              "metadata": {}
            }
          ],
          "input": [
            "let h = f |: (b &: c)"
          ],
          "metadata": {},
          "cell_type": "code",
          "prompt_number": 7,
          "language": "python",
          "collapsed": false
        },
        {
          "outputs": [
            {
              "html": [
                "<pre style=\"color:slategray;max-height:100px;overflow:hidden\" \n",
                "onclick=\"\n",
                "if (this.style.maxHeight === 'none') \n",
                "    this.style.maxHeight = '100px';\n",
                "else\n",
                "    this.style.maxHeight = 'none'; \n",
                "\">val irredundant :\n",
                "  HardCamlBloop.Expr.t -&gt; HardCamlBloop.Kmap.Notebook.notebook_svg_render =\n",
                "  &lt;fun&gt;\n",
                "</pre>"
              ],
              "output_type": "pyout",
              "prompt_number": 8,
              "metadata": {}
            }
          ],
          "input": [
            "let irredundant f = \n",
            "    let cl, _ = build f in\n",
            "    let clirr = Espresso.Irredundant.irredundant cl in\n",
            "    Kmap.Notebook.draw_kmaps4 [| [| Cubelist.sop cl; Cubelist.sop clirr |] |]"
          ],
          "metadata": {},
          "cell_type": "code",
          "prompt_number": 8,
          "language": "python",
          "collapsed": false
        },
        {
          "outputs": [
            {
              "html": [
                "<object data=\"data:image/svg+xml;base64,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\"></object>"
              ],
              "output_type": "display_data",
              "metadata": {}
            },
            {
              "html": [
                "<object data=\"data:image/svg+xml;base64,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\"></object>"
              ],
              "output_type": "display_data",
              "metadata": {}
            },
            {
              "html": [
                "<object data=\"data:image/svg+xml;base64,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\"></object>"
              ],
              "output_type": "display_data",
              "metadata": {}
            },
            {
              "html": [
                "<pre style=\"color:slategray;max-height:100px;overflow:hidden\" \n",
                "onclick=\"\n",
                "if (this.style.maxHeight === 'none') \n",
                "    this.style.maxHeight = '100px';\n",
                "else\n",
                "    this.style.maxHeight = 'none'; \n",
                "\">- : HardCamlBloop.Kmap.Notebook.notebook_svg_render *\n",
                "    HardCamlBloop.Kmap.Notebook.notebook_svg_render *\n",
                "    HardCamlBloop.Kmap.Notebook.notebook_svg_render\n",
                "= (&lt;svg&gt;, &lt;svg&gt;, &lt;svg&gt;)\n",
                "</pre>"
              ],
              "output_type": "pyout",
              "prompt_number": 9,
              "metadata": {}
            }
          ],
          "input": [
            "irredundant f, irredundant g, irredundant h"
          ],
          "metadata": {},
          "cell_type": "code",
          "prompt_number": 9,
          "language": "python",
          "collapsed": false
        },
        {
          "source": [
            "Reduce"
          ],
          "metadata": {},
          "cell_type": "heading",
          "level": 2
        },
        {
          "source": [
            "Espresso reduce operator."
          ],
          "metadata": {},
          "cell_type": "markdown"
        },
        {
          "outputs": [
            {
              "html": [
                "<pre style=\"color:slategray;max-height:100px;overflow:hidden\" \n",
                "onclick=\"\n",
                "if (this.style.maxHeight === 'none') \n",
                "    this.style.maxHeight = '100px';\n",
                "else\n",
                "    this.style.maxHeight = 'none'; \n",
                "\">val f : HardCamlBloop.Pcn.Cubelist.t = &lt;abstr&gt;\n",
                "</pre>"
              ],
              "output_type": "pyout",
              "prompt_number": 10,
              "metadata": {}
            }
          ],
          "input": [
            "let f = Cubelist.of_list @@ List.map Cube.of_array [ [|T; X; X; X|]; [|X; T; X; T|]; [| X; X; F; X |] ]"
          ],
          "metadata": {},
          "cell_type": "code",
          "prompt_number": 10,
          "language": "python",
          "collapsed": false
        },
        {
          "outputs": [
            {
              "html": [
                "<pre style=\"color:slategray;max-height:100px;overflow:hidden\" \n",
                "onclick=\"\n",
                "if (this.style.maxHeight === 'none') \n",
                "    this.style.maxHeight = '100px';\n",
                "else\n",
                "    this.style.maxHeight = 'none'; \n",
                "\">val reduce :\n",
                "  HardCamlBloop.Pcn.Cubelist.t -&gt;\n",
                "  HardCamlBloop.Kmap.Notebook.notebook_svg_render = &lt;fun&gt;\n",
                "</pre>"
              ],
              "output_type": "pyout",
              "prompt_number": 11,
              "metadata": {}
            }
          ],
          "input": [
            "let reduce f = \n",
            "    let f' = Espresso.Reduce.reduce f in\n",
            "    Kmap.Notebook.draw_kmaps4 [| [| Cubelist.sop f; Cubelist.sop f' |] |]"
          ],
          "metadata": {},
          "cell_type": "code",
          "prompt_number": 11,
          "language": "python",
          "collapsed": false
        },
        {
          "outputs": [
            {
              "html": [
                "<object data=\"data:image/svg+xml;base64,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\"></object>"
              ],
              "output_type": "display_data",
              "metadata": {}
            },
            {
              "html": [
                "<pre style=\"color:slategray;max-height:100px;overflow:hidden\" \n",
                "onclick=\"\n",
                "if (this.style.maxHeight === 'none') \n",
                "    this.style.maxHeight = '100px';\n",
                "else\n",
                "    this.style.maxHeight = 'none'; \n",
                "\">- : HardCamlBloop.Kmap.Notebook.notebook_svg_render = &lt;svg&gt;\n",
                "</pre>"
              ],
              "output_type": "pyout",
              "prompt_number": 12,
              "metadata": {}
            }
          ],
          "input": [
            "reduce f"
          ],
          "metadata": {},
          "cell_type": "code",
          "prompt_number": 12,
          "language": "python",
          "collapsed": false
        },
        {
          "source": [
            "Covers"
          ],
          "metadata": {},
          "cell_type": "heading",
          "level": 2
        },
        {
          "source": [
            "For the expand algorithm we need to solve a covering problem; given a matrix filled with 0's and 1's, find the smallest combination of rows that gives a '1' in all columns."
          ],
          "metadata": {},
          "cell_type": "markdown"
        },
        {
          "source": [
            "We will represent each row as a set of column indices which represent a 1.  Thus, a set union combines rows, and a cardinal equal to the number of columns is a cover."
          ],
          "metadata": {},
          "cell_type": "markdown"
        },
        {
          "outputs": [
            {
              "html": [
                "<pre style=\"color:slategray;max-height:100px;overflow:hidden\" \n",
                "onclick=\"\n",
                "if (this.style.maxHeight === 'none') \n",
                "    this.style.maxHeight = '100px';\n",
                "else\n",
                "    this.style.maxHeight = 'none'; \n",
                "\">val cover : HardCamlBloop.Espresso.I.t list =\n",
                "  [&lt;abstr&gt;; &lt;abstr&gt;; &lt;abstr&gt;; &lt;abstr&gt;]\n",
                "</pre>"
              ],
              "output_type": "pyout",
              "prompt_number": 13,
              "metadata": {}
            }
          ],
          "input": [
            "let cover = \n",
            "    let row_of_list l = Espresso.Cover.row_of_list @@ List.map (fun x -> if x<>0 then true else false) l in\n",
            "    List.map row_of_list [\n",
            "        [0;0;1;0;0;0];\n",
            "        [0;1;0;0;0;0];\n",
            "        [0;0;1;1;0;0];\n",
            "        [1;0;0;0;1;1];\n",
            "    ]"
          ],
          "metadata": {},
          "cell_type": "code",
          "prompt_number": 13,
          "language": "python",
          "collapsed": false
        },
        {
          "source": [
            "The greedy solution is;\n",
            "\n",
            "* while not fully covered, choose the set containing the largest number of uncovered elements.\n",
            "\n",
            "As an extension, we choose rows which also cover the fewest already covered elements."
          ],
          "metadata": {},
          "cell_type": "markdown"
        },
        {
          "outputs": [
            {
              "text": [
                "1\n",
                "2\n",
                "3\n"
              ],
              "output_type": "stream",
              "stream": "stdout"
            },
            {
              "html": [
                "<pre style=\"color:slategray;max-height:100px;overflow:hidden\" \n",
                "onclick=\"\n",
                "if (this.style.maxHeight === 'none') \n",
                "    this.style.maxHeight = '100px';\n",
                "else\n",
                "    this.style.maxHeight = 'none'; \n",
                "\">- : unit = ()\n",
                "</pre>"
              ],
              "output_type": "pyout",
              "prompt_number": 14,
              "metadata": {}
            }
          ],
          "input": [
            "List.iter (fun x -> Printf.printf \"%i\\n\" x) @@ Espresso.Cover.find cover"
          ],
          "metadata": {},
          "cell_type": "code",
          "prompt_number": 14,
          "language": "python",
          "collapsed": false
        },
        {
          "source": [
            "Expand"
          ],
          "metadata": {},
          "cell_type": "heading",
          "level": 2
        },
        {
          "source": [
            "First, build the cover.  We take the complement of the function, and check it against each cube, expanding as we go.\n",
            "\n",
            "The complement cover will not change, so we dont need to recompute at each step; that is each term is independent (I think)."
          ],
          "metadata": {},
          "cell_type": "markdown"
        },
        {
          "outputs": [
            {
              "html": [
                "<pre style=\"color:slategray;max-height:100px;overflow:hidden\" \n",
                "onclick=\"\n",
                "if (this.style.maxHeight === 'none') \n",
                "    this.style.maxHeight = '100px';\n",
                "else\n",
                "    this.style.maxHeight = 'none'; \n",
                "\">type column_cover_sets = HardCamlBloop.Espresso.I.t list\n",
                "</pre>"
              ],
              "output_type": "pyout",
              "prompt_number": 15,
              "metadata": {}
            },
            {
              "html": [
                "<pre style=\"color:slategray;max-height:100px;overflow:hidden\" \n",
                "onclick=\"\n",
                "if (this.style.maxHeight === 'none') \n",
                "    this.style.maxHeight = '100px';\n",
                "else\n",
                "    this.style.maxHeight = 'none'; \n",
                "\">val idxset_of_cube : HardCamlBloop.Pcn.Cube.t -&gt; HardCamlBloop.Espresso.I.t =\n",
                "  &lt;fun&gt;\n",
                "</pre>"
              ],
              "output_type": "pyout",
              "prompt_number": 15,
              "metadata": {}
            },
            {
              "html": [
                "<pre style=\"color:slategray;max-height:100px;overflow:hidden\" \n",
                "onclick=\"\n",
                "if (this.style.maxHeight === 'none') \n",
                "    this.style.maxHeight = '100px';\n",
                "else\n",
                "    this.style.maxHeight = 'none'; \n",
                "\">val column_cover :\n",
                "  HardCamlBloop.Pcn.Cubelist.t -&gt; HardCamlBloop.Espresso.I.t list = &lt;fun&gt;\n",
                "</pre>"
              ],
              "output_type": "pyout",
              "prompt_number": 15,
              "metadata": {}
            },
            {
              "html": [
                "<pre style=\"color:slategray;max-height:100px;overflow:hidden\" \n",
                "onclick=\"\n",
                "if (this.style.maxHeight === 'none') \n",
                "    this.style.maxHeight = '100px';\n",
                "else\n",
                "    this.style.maxHeight = 'none'; \n",
                "\">val cover_sets :\n",
                "  HardCamlBloop.Espresso.I.t list -&gt;\n",
                "  HardCamlBloop.Pcn.Cube.t -&gt;\n",
                "  HardCamlBloop.Espresso.I.elt array * HardCamlBloop.Espresso.I.t list =\n",
                "  &lt;fun&gt;\n",
                "</pre>"
              ],
              "output_type": "pyout",
              "prompt_number": 15,
              "metadata": {}
            },
            {
              "html": [
                "<pre style=\"color:slategray;max-height:100px;overflow:hidden\" \n",
                "onclick=\"\n",
                "if (this.style.maxHeight === 'none') \n",
                "    this.style.maxHeight = '100px';\n",
                "else\n",
                "    this.style.maxHeight = 'none'; \n",
                "\">val make_cube : int -&gt; int array -&gt; int list -&gt; HardCamlBloop.Pcn.Cube.t =\n",
                "  &lt;fun&gt;\n",
                "</pre>"
              ],
              "output_type": "pyout",
              "prompt_number": 15,
              "metadata": {}
            },
            {
              "html": [
                "<pre style=\"color:slategray;max-height:100px;overflow:hidden\" \n",
                "onclick=\"\n",
                "if (this.style.maxHeight === 'none') \n",
                "    this.style.maxHeight = '100px';\n",
                "else\n",
                "    this.style.maxHeight = 'none'; \n",
                "\">val expand_cube :\n",
                "  HardCamlBloop.Pcn.Cubelist.t -&gt;\n",
                "  HardCamlBloop.Pcn.Cube.t -&gt; HardCamlBloop.Pcn.Cube.t = &lt;fun&gt;\n",
                "</pre>"
              ],
              "output_type": "pyout",
              "prompt_number": 15,
              "metadata": {}
            },
            {
              "html": [
                "<pre style=\"color:slategray;max-height:100px;overflow:hidden\" \n",
                "onclick=\"\n",
                "if (this.style.maxHeight === 'none') \n",
                "    this.style.maxHeight = '100px';\n",
                "else\n",
                "    this.style.maxHeight = 'none'; \n",
                "\">val expand : HardCamlBloop.Pcn.Cubelist.t -&gt; HardCamlBloop.Pcn.Cubelist.t =\n",
                "  &lt;fun&gt;\n",
                "</pre>"
              ],
              "output_type": "pyout",
              "prompt_number": 15,
              "metadata": {}
            }
          ],
          "input": [
            "type column_cover_sets = Espresso.I.t list\n",
            "\n",
            "let idxset_of_cube cube =\n",
            "    snd @@ Array.fold_left (fun (i, set) v -> \n",
            "        match v with \n",
            "        | Pcn.T -> i+1, Espresso.I.add i set\n",
            "        | Pcn.F -> i+1, Espresso.I.add (-i) set \n",
            "        | Pcn.X -> i+1, set) \n",
            "    (1,Espresso.I.empty) (Cube.to_array cube)\n",
            "\n",
            "let column_cover f = \n",
            "    (* complement of cover *)\n",
            "    let f' = Pcn.(~: f) in\n",
            "    (* for each cube in f' create a set of terms *)\n",
            "    List.map idxset_of_cube @@ Cubelist.to_list f'\n",
            "\n",
            "let cover_sets column_cover_sets cube = \n",
            "    let open Espresso in\n",
            "    let cube_vars = I.elements @@ idxset_of_cube cube in\n",
            "    Array.of_list cube_vars, \n",
            "    List.map\n",
            "        (fun var ->\n",
            "            snd @@ List.fold_left \n",
            "                (fun (col,rset) cset ->\n",
            "                    if I.mem (-var) cset then col+1, I.add col rset\n",
            "                    else col+1, rset)\n",
            "                (0,I.empty) column_cover_sets)\n",
            "        cube_vars\n",
            "\n",
            "let make_cube n_vars vars cover = \n",
            "    let vars = List.map (Array.get vars) cover in\n",
            "    Pcn.Cube.init n_vars (fun i ->\n",
            "        if List.mem (i+1) vars then Pcn.T\n",
            "        else if List.mem (-(i+1)) vars then Pcn.F\n",
            "        else Pcn.X)\n",
            "\n",
            "let expand_cube f cube = \n",
            "    let column_cover = column_cover f in\n",
            "    let vars, cover_sets = cover_sets column_cover cube in\n",
            "    (*Array.iter (Printf.printf \"v: %i\\n\") vars;*)\n",
            "    let cover = Espresso.Cover.find cover_sets in\n",
            "    (*List.iter (Printf.printf \"c: %i\\n\") cover;*)\n",
            "    make_cube (Pcn.Cube.num_vars cube) vars cover\n",
            "\n",
            "let expand f = \n",
            "    let column_cover = column_cover f in\n",
            "    Pcn.Cubelist.of_list @@\n",
            "        List.map \n",
            "            (fun cube -> \n",
            "                let vars, cover_sets = cover_sets column_cover cube in\n",
            "                let cover = Espresso.Cover.find cover_sets in\n",
            "                make_cube (Pcn.Cube.num_vars cube) vars cover)\n",
            "            @@ Pcn.Cubelist.to_list f"
          ],
          "metadata": {},
          "cell_type": "code",
          "prompt_number": 15,
          "language": "python",
          "collapsed": false
        },
        {
          "outputs": [
            {
              "html": [
                "<pre style=\"color:slategray;max-height:100px;overflow:hidden\" \n",
                "onclick=\"\n",
                "if (this.style.maxHeight === 'none') \n",
                "    this.style.maxHeight = '100px';\n",
                "else\n",
                "    this.style.maxHeight = 'none'; \n",
                "\">val f : HardCamlBloop.Expr.t =\n",
                "  Or\n",
                "   (Or\n",
                "     (Or\n",
                "       (And\n",
                "         (And (And (Not (Var (&quot;a&quot;, 0)), Var (&quot;b&quot;, 0)), Not (Var (&quot;c&quot;, 0))),\n",
                "         Not (Var (&quot;d&quot;, 0))),\n",
                "       And (Not (Var (&quot;c&quot;, 0)), Var (&quot;d&quot;, 0))),\n",
                "     And (Var (&quot;c&quot;, 0), Var (&quot;d&quot;, 0))),\n",
                "   And (And (Var (&quot;b&quot;, 0), Var (&quot;c&quot;, 0)), Not (Var (&quot;d&quot;, 0))))\n",
                "</pre>"
              ],
              "output_type": "pyout",
              "prompt_number": 16,
              "metadata": {}
            }
          ],
          "input": [
            "let f = (~:a &: b &: ~:c &: ~:d) |: (~: c &: d) |: (c &: d) |: (b &: c &: ~: d)"
          ],
          "metadata": {},
          "cell_type": "code",
          "prompt_number": 16,
          "language": "python",
          "collapsed": false
        },
        {
          "outputs": [
            {
              "html": [
                "<object data=\"data:image/svg+xml;base64,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\"></object>"
              ],
              "output_type": "display_data",
              "metadata": {}
            },
            {
              "html": [
                "<pre style=\"color:slategray;max-height:100px;overflow:hidden\" \n",
                "onclick=\"\n",
                "if (this.style.maxHeight === 'none') \n",
                "    this.style.maxHeight = '100px';\n",
                "else\n",
                "    this.style.maxHeight = 'none'; \n",
                "\">- : HardCamlBloop.Kmap.Notebook.notebook_svg_render = &lt;svg&gt;\n",
                "</pre>"
              ],
              "output_type": "pyout",
              "prompt_number": 17,
              "metadata": {}
            }
          ],
          "input": [
            "Kmap.Notebook.draw_kmap4 @@ Pcn.Cubelist.sop @@ fst @@ Pcn.build f"
          ],
          "metadata": {},
          "cell_type": "code",
          "prompt_number": 17,
          "language": "python",
          "collapsed": false
        },
        {
          "outputs": [
            {
              "html": [
                "<object data=\"data:image/svg+xml;base64,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\"></object>"
              ],
              "output_type": "display_data",
              "metadata": {}
            },
            {
              "html": [
                "<pre style=\"color:slategray;max-height:100px;overflow:hidden\" \n",
                "onclick=\"\n",
                "if (this.style.maxHeight === 'none') \n",
                "    this.style.maxHeight = '100px';\n",
                "else\n",
                "    this.style.maxHeight = 'none'; \n",
                "\">- : HardCamlBloop.Kmap.Notebook.notebook_svg_render = &lt;svg&gt;\n",
                "</pre>"
              ],
              "output_type": "pyout",
              "prompt_number": 18,
              "metadata": {}
            }
          ],
          "input": [
            "Kmap.Notebook.draw_kmap4 @@ Pcn.Cubelist.sop @@ Pcn.Cubelist.of_list \n",
            "    [ expand_cube (fst (Pcn.build f)) @@ Pcn.Cube.of_array Pcn.[| X; X; F; T |] ]"
          ],
          "metadata": {},
          "cell_type": "code",
          "prompt_number": 18,
          "language": "python",
          "collapsed": false
        },
        {
          "outputs": [
            {
              "html": [
                "<object data=\"data:image/svg+xml;base64,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\"></object>"
              ],
              "output_type": "display_data",
              "metadata": {}
            },
            {
              "html": [
                "<pre style=\"color:slategray;max-height:100px;overflow:hidden\" \n",
                "onclick=\"\n",
                "if (this.style.maxHeight === 'none') \n",
                "    this.style.maxHeight = '100px';\n",
                "else\n",
                "    this.style.maxHeight = 'none'; \n",
                "\">- : HardCamlBloop.Kmap.Notebook.notebook_svg_render = &lt;svg&gt;\n",
                "</pre>"
              ],
              "output_type": "pyout",
              "prompt_number": 19,
              "metadata": {}
            }
          ],
          "input": [
            "Kmap.Notebook.draw_kmap4 @@ Pcn.Cubelist.sop @@ expand (fst (Pcn.build f))"
          ],
          "metadata": {},
          "cell_type": "code",
          "prompt_number": 19,
          "language": "python",
          "collapsed": false
        },
        {
          "source": [
            "Optimiser"
          ],
          "metadata": {},
          "cell_type": "heading",
          "level": 2
        },
        {
          "source": [
            "reduce -> expand -> irredundant"
          ],
          "metadata": {},
          "cell_type": "markdown"
        },
        {
          "outputs": [
            {
              "html": [
                "<pre style=\"color:slategray;max-height:100px;overflow:hidden\" \n",
                "onclick=\"\n",
                "if (this.style.maxHeight === 'none') \n",
                "    this.style.maxHeight = '100px';\n",
                "else\n",
                "    this.style.maxHeight = 'none'; \n",
                "\">val optimise : HardCamlBloop.Pcn.Cubelist.t -&gt; HardCamlBloop.Pcn.Cubelist.t =\n",
                "  &lt;fun&gt;\n",
                "</pre>"
              ],
              "output_type": "pyout",
              "prompt_number": 19,
              "metadata": {}
            }
          ],
          "input": [
            "let optimise f = \n",
            "    Espresso.Reduce.reduce f |> expand |> Espresso.Irredundant.irredundant"
          ],
          "metadata": {},
          "cell_type": "code",
          "prompt_number": 19,
          "language": "python",
          "collapsed": false
        },
        {
          "outputs": [
            {
              "html": [
                "<pre style=\"color:slategray;max-height:100px;overflow:hidden\" \n",
                "onclick=\"\n",
                "if (this.style.maxHeight === 'none') \n",
                "    this.style.maxHeight = '100px';\n",
                "else\n",
                "    this.style.maxHeight = 'none'; \n",
                "\">val f : HardCamlBloop.Expr.t =\n",
                "  Or\n",
                "   (Or\n",
                "     (Or\n",
                "       (Or (And (Not (Var (&quot;a&quot;, 0)), Not (Var (&quot;c&quot;, 0))),\n",
                "         And (Not (Var (&quot;c&quot;, 0)), Var (&quot;d&quot;, 0))),\n",
                "       And (Var (&quot;a&quot;, 0), Var (&quot;c&quot;, 0))),\n",
                "     And (Var (&quot;c&quot;, 0), Not (Var (&quot;d&quot;, 0)))),\n",
                "   And (Var (&quot;b&quot;, 0), Not (Var (&quot;b&quot;, 0))))\n",
                "</pre>"
              ],
              "output_type": "pyout",
              "prompt_number": 52,
              "metadata": {}
            },
            {
              "html": [
                "<pre style=\"color:slategray;max-height:100px;overflow:hidden\" \n",
                "onclick=\"\n",
                "if (this.style.maxHeight === 'none') \n",
                "    this.style.maxHeight = '100px';\n",
                "else\n",
                "    this.style.maxHeight = 'none'; \n",
                "\">val f : HardCamlBloop.Pcn.Cubelist.t = &lt;abstr&gt;\n",
                "</pre>"
              ],
              "output_type": "pyout",
              "prompt_number": 52,
              "metadata": {}
            }
          ],
          "input": [
            "let f = (~: a &: ~: c) |: (~: c &: d) |: (a &: c) |: (c &: ~: d) |: (b &: ~: b)\n",
            "let f = fst @@ Pcn.build f"
          ],
          "metadata": {},
          "cell_type": "code",
          "prompt_number": 52,
          "language": "python",
          "collapsed": false
        },
        {
          "outputs": [
            {
              "html": [
                "<object data=\"data:image/svg+xml;base64,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\"></object>"
              ],
              "output_type": "display_data",
              "metadata": {}
            },
            {
              "html": [
                "<pre style=\"color:slategray;max-height:100px;overflow:hidden\" \n",
                "onclick=\"\n",
                "if (this.style.maxHeight === 'none') \n",
                "    this.style.maxHeight = '100px';\n",
                "else\n",
                "    this.style.maxHeight = 'none'; \n",
                "\">val f' : HardCamlBloop.Pcn.Cubelist.t = &lt;abstr&gt;\n",
                "val f : HardCamlBloop.Pcn.Cubelist.t = &lt;abstr&gt;\n",
                "</pre>"
              ],
              "output_type": "pyout",
              "prompt_number": 58,
              "metadata": {}
            },
            {
              "html": [
                "<pre style=\"color:slategray;max-height:100px;overflow:hidden\" \n",
                "onclick=\"\n",
                "if (this.style.maxHeight === 'none') \n",
                "    this.style.maxHeight = '100px';\n",
                "else\n",
                "    this.style.maxHeight = 'none'; \n",
                "\">- : HardCamlBloop.Kmap.Notebook.notebook_svg_render = &lt;svg&gt;\n",
                "</pre>"
              ],
              "output_type": "pyout",
              "prompt_number": 58,
              "metadata": {}
            }
          ],
          "input": [
            "let f', f = f, optimise f\n",
            "let _ = Kmap.Notebook.draw_kmaps4 @@ [| Array.map Pcn.Cubelist.sop [| f'; f |] |]"
          ],
          "metadata": {},
          "cell_type": "code",
          "prompt_number": 58,
          "language": "python",
          "collapsed": false
        },
        {
          "outputs": [
            {
              "html": [
                "<object data=\"data:image/svg+xml;base64,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\"></object>"
              ],
              "output_type": "display_data",
              "metadata": {}
            },
            {
              "html": [
                "<pre style=\"color:slategray;max-height:100px;overflow:hidden\" \n",
                "onclick=\"\n",
                "if (this.style.maxHeight === 'none') \n",
                "    this.style.maxHeight = '100px';\n",
                "else\n",
                "    this.style.maxHeight = 'none'; \n",
                "\">- : HardCamlBloop.Kmap.Notebook.notebook_svg_render = &lt;svg&gt;\n",
                "</pre>"
              ],
              "output_type": "pyout",
              "prompt_number": 47,
              "metadata": {}
            }
          ],
          "input": [
            "Kmap.Notebook.draw_kmap4 @@ Pcn.Cubelist.sop @@ expand @@ Espresso.Reduce.reduce f"
          ],
          "metadata": {},
          "cell_type": "code",
          "prompt_number": 47,
          "language": "python",
          "collapsed": false
        },
        {
          "outputs": [
            {
              "html": [
                "<object data=\"data:image/svg+xml;base64,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\"></object>"
              ],
              "output_type": "display_data",
              "metadata": {}
            },
            {
              "html": [
                "<object data=\"data:image/svg+xml;base64,PHN2ZyB4bWxucz0iaHR0cDovL3d3dy53My5vcmcvMjAwMC9zdmciIHhtbG5zOmw9Imh0dHA6Ly93d3cudzMub3JnLzE5OTkveGxpbmsiIHZlcnNpb249IjEuMSIgd2lkdGg9IjgwbW0iIGhlaWdodD0iODBtbSIgdmlld0JveD0iMCAwIDgwIDgwIiBjb2xvci1wcm9maWxlPSJhdXRvIiBjb2xvci1pbnRlcnBvbGF0aW9uPSJsaW5lYXJSR0IiIGNvbG9yLWludGVycG9sYXRpb24tZmlsdGVycz0ibGluZWFyUkdCIj48ZyBmaWxsPSJub25lIiBzdHJva2UtbWl0ZXJsaW1pdD0iOS45ODEyMyIgdHJhbnNmb3JtPSJtYXRyaXgoMTYgMCAwIC0xNiAtMCA4MCkiPjxnIHRyYW5zZm9ybT0idHJhbnNsYXRlKDAuNzUgMC4yNSkiPjxkZWZzPjxwYXRoIGlkPSJpMSIgZD0iTS0wLjc1IC0wLjI1TDQuMjUgLTAuMjVMNC4yNSA0Ljc1TC0wLjc1IDQuNzVaIi8+PC9kZWZzPjx1c2UgbDpocmVmPSIjaTEiIGZpbGw9IiMwMDAwMDAiIGZpbGwtb3BhY2l0eT0iMCIvPjxnIHRyYW5zZm9ybT0idHJhbnNsYXRlKDAuNSAxLjUpcm90YXRlKDE4MCkiPjxkZWZzPjxwYXRoIGlkPSJpMiIgZD0iTS0wLjUgMC40NUwwIDAuNDVBIDAuNDUgMC40NSAwIDAgMCAwIC0wLjQ1TC0wLjUgLTAuNDUiLz48L2RlZnM+PHVzZSBsOmhyZWY9IiNpMiIgZmlsbD0iI0RBN0M3QyIgZmlsbC1vcGFjaXR5PSIwLjEiLz48dXNlIGw6aHJlZj0iI2kyIiBzdHJva2Utd2lkdGg9IjAuMDEiIHN0cm9rZT0iI0RBN0M3QyIvPjwvZz48ZyB0cmFuc2Zvcm09InRyYW5zbGF0ZSgxLjUgMS41KSI+PHVzZSBsOmhyZWY9IiNpMiIgZmlsbD0iI0RBN0M3QyIgZmlsbC1vcGFjaXR5PSIwLjEiLz48dXNlIGw6aHJlZj0iI2kyIiBzdHJva2Utd2lkdGg9IjAuMDEiIHN0cm9rZT0iI0RBN0M3QyIvPjwvZz48dXNlIGw6aHJlZj0iI2kxIiBmaWxsPSIjMDAwMDAwIiBmaWxsLW9wYWNpdHk9IjAiLz48ZyB0cmFuc2Zvcm09InRyYW5zbGF0ZSgyLjUgMy41KXJvdGF0ZSg5MCkiPjxkZWZzPjxwYXRoIGlkPSJpMyIgZD0iTS0wLjUgMC40NUwwIDAuNDVBIDAuNDUgMC40NSAwIDAgMCAwLjQ1IDBMMC40NSAtMC41TC0wLjUgLTAuNSIvPjwvZGVmcz48dXNlIGw6aHJlZj0iI2kzIiBmaWxsPSIjREE3QzdDIiBmaWxsLW9wYWNpdHk9IjAuMSIvPjxkZWZzPjxwYXRoIGlkPSJpNCIgZD0iTS0wLjUgMC40NUwwIDAuNDVBIDAuNDUgMC40NSAwIDAgMCAwLjQ1IDBMMC40NSAtMC41Ii8+PC9kZWZzPjx1c2UgbDpocmVmPSIjaTQiIHN0cm9rZS13aWR0aD0iMC4wMSIgc3Ryb2tlPSIjREE3QzdDIi8+PC9nPjxnIHRyYW5zZm9ybT0idHJhbnNsYXRlKDMuNSAzLjUpIj48dXNlIGw6aHJlZj0iI2kzIiBmaWxsPSIjREE3QzdDIiBmaWxsLW9wYWNpdHk9IjAuMSIvPjx1c2UgbDpocmVmPSIjaTQiIHN0cm9rZS13aWR0aD0iMC4wMSIgc3Ryb2tlPSIjREE3QzdDIi8+PC9nPjxnIHRyYW5zZm9ybT0idHJhbnNsYXRlKDIuNSAyLjUpcm90YXRlKDE4MCkiPjx1c2UgbDpocmVmPSIjaTMiIGZpbGw9IiNEQTdDN0MiIGZpbGwtb3BhY2l0eT0iMC4xIi8+PHVzZSBsOmhyZWY9IiNpNCIgc3Ryb2tlLXdpZHRoPSIwLjAxIiBzdHJva2U9IiNEQTdDN0MiLz48L2c+PGcgdHJhbnNmb3JtPSJ0cmFuc2xhdGUoMy41IDIuNSlyb3RhdGUoMjcwKSI+PHVzZSBsOmhyZWY9IiNpMyIgZmlsbD0iI0RBN0M3QyIgZmlsbC1vcGFjaXR5PSIwLjEiLz48dXNlIGw6aHJlZj0iI2k0IiBzdHJva2Utd2lkdGg9IjAuMDEiIHN0cm9rZT0iI0RBN0M3QyIvPjwvZz48dXNlIGw6aHJlZj0iI2kxIiBmaWxsPSIjMDAwMDAwIiBmaWxsLW9wYWNpdHk9IjAiLz48ZyB0cmFuc2Zvcm09InRyYW5zbGF0ZSgzIDApIj48ZGVmcz48cGF0aCBpZD0iaTUiIGQ9Ik0wIDBMMSAwTDEgMUwwIDFaIi8+PC9kZWZzPjx1c2UgbDpocmVmPSIjaTUiIHN0cm9rZS13aWR0aD0iMC4wMiIgc3Ryb2tlPSIjMDAwMDAwIi8+PC9nPjxnIHRyYW5zZm9ybT0idHJhbnNsYXRlKDIgMCkiPjx1c2UgbDpocmVmPSIjaTUiIHN0cm9rZS13aWR0aD0iMC4wMiIgc3Ryb2tlPSIjMDAwMDAwIi8+PC9nPjxnIHRyYW5zZm9ybT0idHJhbnNsYXRlKDEgMCkiPjx1c2UgbDpocmVmPSIjaTUiIHN0cm9rZS13aWR0aD0iMC4wMiIgc3Ryb2tlPSIjMDAwMDAwIi8+PC9nPjxnIHRyYW5zZm9ybT0idHJhbnNsYXRlKDAgMCkiPjx1c2UgbDpocmVmPSIjaTUiIHN0cm9rZS13aWR0aD0iMC4wMiIgc3Ryb2tlPSIjMDAwMDAwIi8+PC9nPjxnIHRyYW5zZm9ybT0idHJhbnNsYXRlKDMgMSkiPjx1c2UgbDpocmVmPSIjaTUiIHN0cm9rZS13aWR0aD0iMC4wMiIgc3Ryb2tlPSIjMDAwMDAwIi8+PC9nPjxnIHRyYW5zZm9ybT0idHJhbnNsYXRlKDIgMSkiPjx1c2UgbDpocmVmPSIjaTUiIHN0cm9rZS13aWR0aD0iMC4wMiIgc3Ryb2tlPSIjMDAwMDAwIi8+PC9nPjxnIHRyYW5zZm9ybT0idHJhbnNsYXRlKDEgMSkiPjx1c2UgbDpocmVmPSIjaTUiIHN0cm9rZS13aWR0aD0iMC4wMiIgc3Ryb2tlPSIjMDAwMDAwIi8+PGcgdHJhbnNmb3JtPSJ0cmFuc2xhdGUoMC4zOTUgMC4zNjUpIj48dGV4dCB0cmFuc2Zvcm09InNjYWxlKDEsLTEpIiBmb250LWZhbWlseT0iT3BlbiBTYW5zIiBmb250LXN0eWxlPSJub3JtYWwiIGZvbnQtd2VpZ2h0PSI0MDAiIGZvbnQtc2l6ZT0iMC40IiAgZmlsbD0iIzAwMDAwMCI+MTwvdGV4dD48L2c+PC9nPjxnIHRyYW5zZm9ybT0idHJhbnNsYXRlKDAgMSkiPjx1c2UgbDpocmVmPSIjaTUiIHN0cm9rZS13aWR0aD0iMC4wMiIgc3Ryb2tlPSIjMDAwMDAwIi8+PGcgdHJhbnNmb3JtPSJ0cmFuc2xhdGUoMC4zOTUgMC4zNjUpIj48dGV4dCB0cmFuc2Zvcm09InNjYWxlKDEsLTEpIiBmb250LWZhbWlseT0iT3BlbiBTYW5zIiBmb250LXN0eWxlPSJub3JtYWwiIGZvbnQtd2VpZ2h0PSI0MDAiIGZvbnQtc2l6ZT0iMC40IiAgZmlsbD0iIzAwMDAwMCI+MTwvdGV4dD48L2c+PC9nPjxnIHRyYW5zZm9ybT0idHJhbnNsYXRlKDMgMikiPjx1c2UgbDpocmVmPSIjaTUiIHN0cm9rZS13aWR0aD0iMC4wMiIgc3Ryb2tlPSIjMDAwMDAwIi8+PGcgdHJhbnNmb3JtPSJ0cmFuc2xhdGUoMC4zOTUgMC4zNjUpIj48dGV4dCB0cmFuc2Zvcm09InNjYWxlKDEsLTEpIiBmb250LWZhbWlseT0iT3BlbiBTYW5zIiBmb250LXN0eWxlPSJub3JtYWwiIGZvbnQtd2VpZ2h0PSI0MDAiIGZvbnQtc2l6ZT0iMC40IiAgZmlsbD0iIzAwMDAwMCI+MTwvdGV4dD48L2c+PC9nPjxnIHRyYW5zZm9ybT0idHJhbnNsYXRlKDIgMikiPjx1c2UgbDpocmVmPSIjaTUiIHN0cm9rZS13aWR0aD0iMC4wMiIgc3Ryb2tlPSIjMDAwMDAwIi8+PGcgdHJhbnNmb3JtPSJ0cmFuc2xhdGUoMC4zOTUgMC4zNjUpIj48dGV4dCB0cmFuc2Zvcm09InNjYWxlKDEsLTEpIiBmb250LWZhbWlseT0iT3BlbiBTYW5zIiBmb250LXN0eWxlPSJub3JtYWwiIGZvbnQtd2VpZ2h0PSI0MDAiIGZvbnQtc2l6ZT0iMC40IiAgZmlsbD0iIzAwMDAwMCI+MTwvdGV4dD48L2c+PC9nPjxnIHRyYW5zZm9ybT0idHJhbnNsYXRlKDEgMikiPjx1c2UgbDpocmVmPSIjaTUiIHN0cm9rZS13aWR0aD0iMC4wMiIgc3Ryb2tlPSIjMDAwMDAwIi8+PC9nPjxnIHRyYW5zZm9ybT0idHJhbnNsYXRlKDAgMikiPjx1c2UgbDpocmVmPSIjaTUiIHN0cm9rZS13aWR0aD0iMC4wMiIgc3Ryb2tlPSIjMDAwMDAwIi8+PC9nPjxnIHRyYW5zZm9ybT0idHJhbnNsYXRlKDMgMykiPjx1c2UgbDpocmVmPSIjaTUiIHN0cm9rZS13aWR0aD0iMC4wMiIgc3Ryb2tlPSIjMDAwMDAwIi8+PGcgdHJhbnNmb3JtPSJ0cmFuc2xhdGUoMC4zOTUgMC4zNjUpIj48dGV4dCB0cmFuc2Zvcm09InNjYWxlKDEsLTEpIiBmb250LWZhbWlseT0iT3BlbiBTYW5zIiBmb250LXN0eWxlPSJub3JtYWwiIGZvbnQtd2VpZ2h0PSI0MDAiIGZvbnQtc2l6ZT0iMC40IiAgZmlsbD0iIzAwMDAwMCI+MTwvdGV4dD48L2c+PC9nPjxnIHRyYW5zZm9ybT0idHJhbnNsYXRlKDIgMykiPjx1c2UgbDpocmVmPSIjaTUiIHN0cm9rZS13aWR0aD0iMC4wMiIgc3Ryb2tlPSIjMDAwMDAwIi8+PGcgdHJhbnNmb3JtPSJ0cmFuc2xhdGUoMC4zOTUgMC4zNjUpIj48dGV4dCB0cmFuc2Zvcm09InNjYWxlKDEsLTEpIiBmb250LWZhbWlseT0iT3BlbiBTYW5zIiBmb250LXN0eWxlPSJub3JtYWwiIGZvbnQtd2VpZ2h0PSI0MDAiIGZvbnQtc2l6ZT0iMC40IiAgZmlsbD0iIzAwMDAwMCI+MTwvdGV4dD48L2c+PC9nPjxnIHRyYW5zZm9ybT0idHJhbnNsYXRlKDEgMykiPjx1c2UgbDpocmVmPSIjaTUiIHN0cm9rZS13aWR0aD0iMC4wMiIgc3Ryb2tlPSIjMDAwMDAwIi8+PC9nPjxnIHRyYW5zZm9ybT0idHJhbnNsYXRlKDAgMykiPjx1c2UgbDpocmVmPSIjaTUiIHN0cm9rZS13aWR0aD0iMC4wMiIgc3Ryb2tlPSIjMDAwMDAwIi8+PC9nPjx1c2UgbDpocmVmPSIjaTEiIGZpbGw9IiMwMDAwMDAiIGZpbGwtb3BhY2l0eT0iMCIvPjxnIHRyYW5zZm9ybT0idHJhbnNsYXRlKDAuMyA0LjEpIj48ZyB0cmFuc2Zvcm09InRyYW5zbGF0ZSgzIDApIj48dGV4dCB0cmFuc2Zvcm09InNjYWxlKDEsLTEpIiBmb250LWZhbWlseT0iT3BlbiBTYW5zIiBmb250LXN0eWxlPSJub3JtYWwiIGZvbnQtd2VpZ2h0PSI0MDAiIGZvbnQtc2l6ZT0iMC4zIiAgZmlsbD0iIzAwMDAwMCI+MTA8L3RleHQ+PC9nPjxnIHRyYW5zZm9ybT0idHJhbnNsYXRlKDIgMCkiPjx0ZXh0IHRyYW5zZm9ybT0ic2NhbGUoMSwtMSkiIGZvbnQtZmFtaWx5PSJPcGVuIFNhbnMiIGZvbnQtc3R5bGU9Im5vcm1hbCIgZm9udC13ZWlnaHQ9IjQwMCIgZm9udC1zaXplPSIwLjMiICBmaWxsPSIjMDAwMDAwIj4xMTwvdGV4dD48L2c+PGcgdHJhbnNmb3JtPSJ0cmFuc2xhdGUoMSAwKSI+PHRleHQgdHJhbnNmb3JtPSJzY2FsZSgxLC0xKSIgZm9udC1mYW1pbHk9Ik9wZW4gU2FucyIgZm9udC1zdHlsZT0ibm9ybWFsIiBmb250LXdlaWdodD0iNDAwIiBmb250LXNpemU9IjAuMyIgIGZpbGw9IiMwMDAwMDAiPjAxPC90ZXh0PjwvZz48ZyB0cmFuc2Zvcm09InRyYW5zbGF0ZSgwIDApIj48dGV4dCB0cmFuc2Zvcm09InNjYWxlKDEsLTEpIiBmb250LWZhbWlseT0iT3BlbiBTYW5zIiBmb250LXN0eWxlPSJub3JtYWwiIGZvbnQtd2VpZ2h0PSI0MDAiIGZvbnQtc2l6ZT0iMC4zIiAgZmlsbD0iIzAwMDAwMCI+MDA8L3RleHQ+PC9nPjxkZWZzPjxwYXRoIGlkPSJpNiIgZD0iTS0xLjA1IC00LjM1TDMuOTUgLTQuMzVMMy45NSAwLjY1TC0xLjA1IDAuNjVaIi8+PC9kZWZzPjx1c2UgbDpocmVmPSIjaTYiIGZpbGw9IiMwMDAwMDAiIGZpbGwtb3BhY2l0eT0iMCIvPjwvZz48ZyB0cmFuc2Zvcm09InRyYW5zbGF0ZSgtMC4zNiAwLjM4KSI+PGcgdHJhbnNmb3JtPSJ0cmFuc2xhdGUoMCAwKSI+PHRleHQgdHJhbnNmb3JtPSJzY2FsZSgxLC0xKSIgZm9udC1mYW1pbHk9Ik9wZW4gU2FucyIgZm9udC1zdHlsZT0ibm9ybWFsIiBmb250LXdlaWdodD0iNDAwIiBmb250LXNpemU9IjAuMyIgIGZpbGw9IiMwMDAwMDAiPjEwPC90ZXh0PjwvZz48ZyB0cmFuc2Zvcm09InRyYW5zbGF0ZSgwIDEpIj48dGV4dCB0cmFuc2Zvcm09InNjYWxlKDEsLTEpIiBmb250LWZhbWlseT0iT3BlbiBTYW5zIiBmb250LXN0eWxlPSJub3JtYWwiIGZvbnQtd2VpZ2h0PSI0MDAiIGZvbnQtc2l6ZT0iMC4zIiAgZmlsbD0iIzAwMDAwMCI+MTE8L3RleHQ+PC9nPjxnIHRyYW5zZm9ybT0idHJhbnNsYXRlKDAgMikiPjx0ZXh0IHRyYW5zZm9ybT0ic2NhbGUoMSwtMSkiIGZvbnQtZmFtaWx5PSJPcGVuIFNhbnMiIGZvbnQtc3R5bGU9Im5vcm1hbCIgZm9udC13ZWlnaHQ9IjQwMCIgZm9udC1zaXplPSIwLjMiICBmaWxsPSIjMDAwMDAwIj4wMTwvdGV4dD48L2c+PGcgdHJhbnNmb3JtPSJ0cmFuc2xhdGUoMCAzKSI+PHRleHQgdHJhbnNmb3JtPSJzY2FsZSgxLC0xKSIgZm9udC1mYW1pbHk9Ik9wZW4gU2FucyIgZm9udC1zdHlsZT0ibm9ybWFsIiBmb250LXdlaWdodD0iNDAwIiBmb250LXNpemU9IjAuMyIgIGZpbGw9IiMwMDAwMDAiPjAwPC90ZXh0PjwvZz48ZGVmcz48cGF0aCBpZD0iaTciIGQ9Ik0tMC4zOSAtMC42M0w0LjYxIC0wLjYzTDQuNjEgNC4zN0wtMC4zOSA0LjM3WiIvPjwvZGVmcz48dXNlIGw6aHJlZj0iI2k3IiBmaWxsPSIjMDAwMDAwIiBmaWxsLW9wYWNpdHk9IjAiLz48L2c+PGRlZnM+PHBhdGggaWQ9Imk4IiBkPSJNLTAuNSA0LjVMMCA0Ii8+PC9kZWZzPjx1c2UgbDpocmVmPSIjaTgiIHN0cm9rZS13aWR0aD0iMC4wMiIgc3Ryb2tlPSIjMDAwMDAwIi8+PC9nPjwvZz48L3N2Zz4=\"></object>"
              ],
              "output_type": "display_data",
              "metadata": {}
            },
            {
              "html": [
                "<object data=\"data:image/svg+xml;base64,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\"></object>"
              ],
              "output_type": "display_data",
              "metadata": {}
            },
            {
              "html": [
                "<object data=\"data:image/svg+xml;base64,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\"></object>"
              ],
              "output_type": "display_data",
              "metadata": {}
            },
            {
              "html": [
                "<pre style=\"color:slategray;max-height:100px;overflow:hidden\" \n",
                "onclick=\"\n",
                "if (this.style.maxHeight === 'none') \n",
                "    this.style.maxHeight = '100px';\n",
                "else\n",
                "    this.style.maxHeight = 'none'; \n",
                "\">val f : HardCamlBloop.Expr.t =\n",
                "  Or\n",
                "   (Or\n",
                "     (Or (And (Not (Var (&quot;a&quot;, 0)), Not (Var (&quot;c&quot;, 0))),\n",
                "       And (Var (&quot;a&quot;, 0), Var (&quot;c&quot;, 0))),\n",
                "     And (Var (&quot;c&quot;, 0), Not (Var (&quot;d&quot;, 0)))),\n",
                "   And (Var (&quot;b&quot;, 0), Not (Var (&quot;b&quot;, 0))))\n",
                "</pre>"
              ],
              "output_type": "pyout",
              "prompt_number": 23,
              "metadata": {}
            },
            {
              "html": [
                "<pre style=\"color:slategray;max-height:100px;overflow:hidden\" \n",
                "onclick=\"\n",
                "if (this.style.maxHeight === 'none') \n",
                "    this.style.maxHeight = '100px';\n",
                "else\n",
                "    this.style.maxHeight = 'none'; \n",
                "\">val f : HardCamlBloop.Pcn.Cubelist.t = &lt;abstr&gt;\n",
                "</pre>"
              ],
              "output_type": "pyout",
              "prompt_number": 23,
              "metadata": {}
            },
            {
              "html": [
                "<pre style=\"color:slategray;max-height:100px;overflow:hidden\" \n",
                "onclick=\"\n",
                "if (this.style.maxHeight === 'none') \n",
                "    this.style.maxHeight = '100px';\n",
                "else\n",
                "    this.style.maxHeight = 'none'; \n",
                "\">- : HardCamlBloop.Kmap.Notebook.notebook_svg_render = &lt;svg&gt;\n",
                "</pre>"
              ],
              "output_type": "pyout",
              "prompt_number": 23,
              "metadata": {}
            },
            {
              "html": [
                "<pre style=\"color:slategray;max-height:100px;overflow:hidden\" \n",
                "onclick=\"\n",
                "if (this.style.maxHeight === 'none') \n",
                "    this.style.maxHeight = '100px';\n",
                "else\n",
                "    this.style.maxHeight = 'none'; \n",
                "\">- : HardCamlBloop.Kmap.Notebook.notebook_svg_render = &lt;svg&gt;\n",
                "</pre>"
              ],
              "output_type": "pyout",
              "prompt_number": 23,
              "metadata": {}
            },
            {
              "html": [
                "<pre style=\"color:slategray;max-height:100px;overflow:hidden\" \n",
                "onclick=\"\n",
                "if (this.style.maxHeight === 'none') \n",
                "    this.style.maxHeight = '100px';\n",
                "else\n",
                "    this.style.maxHeight = 'none'; \n",
                "\">val c : HardCamlBloop.Pcn.Cube.t = &lt;abstr&gt;\n",
                "</pre>"
              ],
              "output_type": "pyout",
              "prompt_number": 23,
              "metadata": {}
            },
            {
              "html": [
                "<pre style=\"color:slategray;max-height:100px;overflow:hidden\" \n",
                "onclick=\"\n",
                "if (this.style.maxHeight === 'none') \n",
                "    this.style.maxHeight = '100px';\n",
                "else\n",
                "    this.style.maxHeight = 'none'; \n",
                "\">val r : HardCamlBloop.Pcn.Cube.t = &lt;abstr&gt;\n",
                "</pre>"
              ],
              "output_type": "pyout",
              "prompt_number": 23,
              "metadata": {}
            },
            {
              "html": [
                "<pre style=\"color:slategray;max-height:100px;overflow:hidden\" \n",
                "onclick=\"\n",
                "if (this.style.maxHeight === 'none') \n",
                "    this.style.maxHeight = '100px';\n",
                "else\n",
                "    this.style.maxHeight = 'none'; \n",
                "\">- : HardCamlBloop.Kmap.Notebook.notebook_svg_render = &lt;svg&gt;\n",
                "</pre>"
              ],
              "output_type": "pyout",
              "prompt_number": 23,
              "metadata": {}
            },
            {
              "html": [
                "<pre style=\"color:slategray;max-height:100px;overflow:hidden\" \n",
                "onclick=\"\n",
                "if (this.style.maxHeight === 'none') \n",
                "    this.style.maxHeight = '100px';\n",
                "else\n",
                "    this.style.maxHeight = 'none'; \n",
                "\">- : HardCamlBloop.Kmap.Notebook.notebook_svg_render = &lt;svg&gt;\n",
                "</pre>"
              ],
              "output_type": "pyout",
              "prompt_number": 23,
              "metadata": {}
            }
          ],
          "input": [
            "let f = (~: a &: ~: c) |: (* (~: c &: d) |:*) (a &: c) |: (c &: ~: d) |: (b &: ~: b)\n",
            "let f = fst @@ Pcn.build f\n",
            "let _ = Kmap.Notebook.draw_kmap4 @@ Pcn.Cubelist.sop @@ f\n",
            "let _ = Kmap.Notebook.draw_kmap4 @@ Pcn.Cubelist.sop @@ (Pcn.(~:) f)\n",
            "let c' = Pcn.Cube.of_array [|X;X;F;T|]\n",
            "let r = Espresso.Reduce.reduce_cube f @@ c'\n",
            "let _ = Kmap.Notebook.draw_kmap4 @@ Pcn.Cubelist.sop @@ Pcn.Cubelist.of_list [c']\n",
            "let _ = Kmap.Notebook.draw_kmap4 @@ Pcn.Cubelist.sop @@ Pcn.Cubelist.of_list [r]"
          ],
          "metadata": {},
          "cell_type": "code",
          "prompt_number": 23,
          "language": "python",
          "collapsed": false
        }
      ],
      "metadata": {}
    }
  ],
  "metadata": { "name": "", "language": "ocaml" },
  "nbformat": 3,
  "nbformat_minor": 0
}